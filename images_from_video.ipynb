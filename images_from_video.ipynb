{
 "cells": [
  {
   "cell_type": "code",
   "execution_count": null,
   "id": "ebfc0ceb-6d53-43bf-aec6-da81c5196c2b",
   "metadata": {
    "id": "ebfc0ceb-6d53-43bf-aec6-da81c5196c2b"
   },
   "outputs": [],
   "source": [
    "%%capture\n",
    "!pip install opencv-python"
   ]
  },
  {
   "cell_type": "code",
   "execution_count": null,
   "id": "c2a79d09-f448-488b-aaf3-f0ec18954310",
   "metadata": {
    "id": "c2a79d09-f448-488b-aaf3-f0ec18954310"
   },
   "outputs": [],
   "source": [
    "import datetime\n",
    "import json\n",
    "import math\n",
    "import multiprocessing\n",
    "import os\n",
    "import shutil\n",
    "import time\n",
    "\n",
    "import cv2\n",
    "from tqdm.notebook import tqdm"
   ]
  },
  {
   "cell_type": "markdown",
   "id": "e379a8eb-fa16-4e23-8ed2-67e8178c9110",
   "metadata": {
    "id": "e379a8eb-fa16-4e23-8ed2-67e8178c9110"
   },
   "source": [
    "# Parameters"
   ]
  },
  {
   "cell_type": "code",
   "execution_count": null,
   "id": "61380c36-340f-4451-a42d-55b86aec98c2",
   "metadata": {
    "id": "61380c36-340f-4451-a42d-55b86aec98c2"
   },
   "outputs": [],
   "source": [
    "# Run id based on timestamp\n",
    "NOW = datetime.datetime.now().strftime(\"%Y_%m_%d_____%H_%M_%S\")\n",
    "\n",
    "# Number of batches\n",
    "NUM_PROCESSES = multiprocessing.cpu_count()\n",
    "\n",
    "# Take snapshot every n seconds\n",
    "FREQ_SECONDS = 2\n",
    "# Resolution of the snapshot\n",
    "SIZE_OUTPUT = (1024, 1024)\n",
    "\n",
    "# Directories containing videos to process\n",
    "DIRS_INPUT = sorted(set(x for x in [\"sc_videos\"]))\n",
    "# Video format (case sensitive)\n",
    "PATTERN_VIDEO = \".mp4\"\n",
    "\n",
    "# Directory output\n",
    "DIR_OUTPUT = \"video_snapshots_{}\".format(NOW)\n",
    "# Image format\n",
    "PATTERN_IMAGE = \".png\"\n",
    "\n",
    "# Log file\n",
    "PATH_JSON = \"json_data_{}.json\".format(NOW)\n",
    "\n",
    "# False for debugging\n",
    "OUTPUT = True"
   ]
  },
  {
   "cell_type": "markdown",
   "id": "15ff0bed-7588-44b9-9435-82919cd0ce65",
   "metadata": {
    "id": "15ff0bed-7588-44b9-9435-82919cd0ce65"
   },
   "source": [
    "# Functions"
   ]
  },
  {
   "cell_type": "code",
   "execution_count": null,
   "id": "83d85407-07a5-4334-8536-b767e5dbac4a",
   "metadata": {
    "id": "83d85407-07a5-4334-8536-b767e5dbac4a"
   },
   "outputs": [],
   "source": [
    "class ImagesFromVideo:\n",
    "    def __init__(\n",
    "        self,\n",
    "        filename,\n",
    "        freq_seconds=FREQ_SECONDS,\n",
    "        pattern_video=PATTERN_VIDEO,\n",
    "        pattern_image=PATTERN_IMAGE,\n",
    "        dir_output=os.path.join(DIR_OUTPUT, \"all\"),\n",
    "        size_output=SIZE_OUTPUT,\n",
    "        num_processes=NUM_PROCESSES,\n",
    "    ):\n",
    "        self.filename = filename\n",
    "        self.freq_seconds = freq_seconds\n",
    "        self.pattern_video = pattern_video\n",
    "        self.pattern_image = pattern_image\n",
    "        self.dir_output = dir_output\n",
    "        self.size_output = size_output\n",
    "        self.num_processes = num_processes\n",
    "        self.filename_no_extension = os.path.basename(filename).split(\n",
    "            self.pattern_video\n",
    "        )[0]\n",
    "\n",
    "        # Read video and get n_frames and rounded frame_rate\n",
    "        cap = cv2.VideoCapture(self.filename)\n",
    "        n_frames = math.floor(cap.get(cv2.CAP_PROP_FRAME_COUNT))\n",
    "        frame_rate = int(cap.get(cv2.CAP_PROP_FPS))\n",
    "        freq = math.floor(self.freq_seconds * frame_rate)\n",
    "        # List containing frames to save from video\n",
    "        self.frames_to_save_int = sorted(x for x in range(n_frames) if (x % freq == 0))\n",
    "        # Integrity check\n",
    "        assert len(self.frames_to_save_int) > 0\n",
    "        # Point to last frame and read image\n",
    "        last_frame = self.frames_to_save_int[-1]\n",
    "        cap.set(cv2.CAP_PROP_POS_FRAMES, last_frame)\n",
    "        _, frame = cap.read()\n",
    "        if _ != True:\n",
    "            print(\"\\tLast frame not parsed:\", self.filename, last_frame)\n",
    "            self.frames_to_save_int.remove(last_frame)\n",
    "        cap.release()\n",
    "\n",
    "    def n_frames(self):\n",
    "        \"\"\"Returns number of frames in video, given a frequency in seconds\"\"\"\n",
    "        return len(self.frames_to_save_int)\n",
    "\n",
    "    def list_frames_int(self):\n",
    "        \"\"\"Returns list of frames in video as integers, given a frequency in seconds\"\"\"\n",
    "        return self.frames_to_save_int\n",
    "\n",
    "    def list_frames_str(self):\n",
    "        \"\"\"Returns list of frames in video as string, given a frequency in seconds\"\"\"\n",
    "        return [\n",
    "            (self.filename_no_extension + \"_\" + str(int(x)) + self.pattern_image)\n",
    "            for x in self.frames_to_save_int\n",
    "        ]\n",
    "\n",
    "    def save_frames(self, frames_to_save):\n",
    "        \"\"\"Save frames, given a list of frames in video\"\"\"\n",
    "        cap = cv2.VideoCapture(self.filename)\n",
    "        for f in frames_to_save:\n",
    "            # Point to frame f and read image\n",
    "            cap.set(cv2.CAP_PROP_POS_FRAMES, f)\n",
    "            _, frame = cap.read()\n",
    "            if _ != True:\n",
    "                print(\"\\tERROR\", self.filename, f)\n",
    "                continue\n",
    "            # Save snapshot\n",
    "            cv2.imwrite(\n",
    "                os.path.join(\n",
    "                    self.dir_output,\n",
    "                    self.filename_no_extension + \"_\" + str(int(f)) + \".png\",\n",
    "                ),\n",
    "                cv2.resize(frame, dsize=self.size_output),\n",
    "                [int(cv2.IMWRITE_PNG_COMPRESSION), 7],\n",
    "            )\n",
    "        cap.release()\n",
    "        return None\n",
    "    \n",
    "    @staticmethod\n",
    "    def chunks(l, n):\n",
    "        \"\"\"Yield n number of striped chunks from l\"\"\"\n",
    "        for i in range(0, n):\n",
    "            yield l[i::n]\n",
    "\n",
    "    def save_frames_chunks(self, frames_to_save):\n",
    "        \"\"\"Save frames using multiprocessing, given a list of frames in video\"\"\"\n",
    "        frames_to_save_chunks = sorted(\n",
    "            self.chunks(l=self.frames_to_save_int, n=self.num_processes)\n",
    "        )\n",
    "        multiprocessing.Pool(self.num_processes).map(\n",
    "            self.save_frames, frames_to_save_chunks\n",
    "        )"
   ]
  },
  {
   "cell_type": "markdown",
   "id": "2c25d76b-0a74-4337-ad19-02838915d1da",
   "metadata": {
    "id": "2c25d76b-0a74-4337-ad19-02838915d1da"
   },
   "source": [
    "# Folder operations"
   ]
  },
  {
   "cell_type": "code",
   "execution_count": null,
   "id": "b857d794-b8e4-45a6-81e5-1a5766095e54",
   "metadata": {
    "id": "b857d794-b8e4-45a6-81e5-1a5766095e54"
   },
   "outputs": [],
   "source": [
    "try:\n",
    "    shutil.rmtree(DIR_OUTPUT)\n",
    "    print(\"Output directory deleted\")\n",
    "except:\n",
    "    print(\"Output directory not found\")\n",
    "\n",
    "os.makedirs(os.path.join(DIR_OUTPUT, \"all\"))\n",
    "print(\"Output directory created-validated\")"
   ]
  },
  {
   "cell_type": "markdown",
   "id": "2e50ae58-917d-4013-8fca-608db2e54193",
   "metadata": {
    "id": "2e50ae58-917d-4013-8fca-608db2e54193"
   },
   "source": [
    "# List files to process"
   ]
  },
  {
   "cell_type": "code",
   "execution_count": null,
   "id": "a64660a6-8b1b-41fb-932f-d3b0b802e51a",
   "metadata": {
    "id": "a64660a6-8b1b-41fb-932f-d3b0b802e51a"
   },
   "outputs": [],
   "source": [
    "filenames = []\n",
    "for d in DIRS_INPUT:\n",
    "    for f in sorted(os.path.join(d, x) for x in os.listdir(d) if PATTERN_VIDEO in x):\n",
    "        filenames.append(f)\n",
    "print(len(filenames), \"files matching pattern\")"
   ]
  },
  {
   "cell_type": "markdown",
   "id": "90508660-4ea6-49c8-ae6d-dc8e597b678c",
   "metadata": {
    "id": "90508660-4ea6-49c8-ae6d-dc8e597b678c"
   },
   "source": [
    "# Images from videos"
   ]
  },
  {
   "cell_type": "code",
   "execution_count": null,
   "id": "0fd70ee2-8ce6-4dd9-b870-20573c13ddfc",
   "metadata": {
    "id": "0fd70ee2-8ce6-4dd9-b870-20573c13ddfc"
   },
   "outputs": [],
   "source": [
    "start = time.time()\n",
    "counter = 0\n",
    "d = {}\n",
    "for f in tqdm(filenames):\n",
    "    f_init = ImagesFromVideo(f)\n",
    "    counter += f_init.n_frames()\n",
    "    d[os.path.basename(f)] = f_init.list_frames_str()\n",
    "    if OUTPUT == True:\n",
    "        f_init.save_frames_chunks(f_init.list_frames_int())\n",
    "if OUTPUT == True:\n",
    "    assert counter == len(os.listdir(os.path.join(DIR_OUTPUT, \"all\")))\n",
    "print(round((time.time() - start) / 60, 1), \"minutes\")"
   ]
  },
  {
   "cell_type": "markdown",
   "id": "76001541-dcf7-45e8-bb61-27ca19da009d",
   "metadata": {
    "id": "76001541-dcf7-45e8-bb61-27ca19da009d"
   },
   "source": [
    "# Write summary as json"
   ]
  },
  {
   "cell_type": "code",
   "execution_count": null,
   "id": "95dfae7a-42c1-4c94-9c27-0c263184dd55",
   "metadata": {
    "id": "95dfae7a-42c1-4c94-9c27-0c263184dd55"
   },
   "outputs": [],
   "source": [
    "json_string = {\n",
    "    \"RUN_ID\": NOW,\n",
    "    \"FREQ_SECONDS\": FREQ_SECONDS,\n",
    "    \"SIZE_OUTPUT\": SIZE_OUTPUT,\n",
    "    \"N_OF_FRAMES\": counter,\n",
    "    \"FRAMES\": d,\n",
    "}\n",
    "with open(os.path.join(DIR_OUTPUT, PATH_JSON), \"w\") as outfile:\n",
    "    json.dump(json_string, outfile, indent=4)"
   ]
  },
  {
   "cell_type": "code",
   "execution_count": null,
   "id": "1248219b-176d-4915-8e00-26f8284a3347",
   "metadata": {
    "id": "1248219b-176d-4915-8e00-26f8284a3347"
   },
   "outputs": [],
   "source": []
  }
 ],
 "metadata": {
  "colab": {
   "collapsed_sections": [],
   "name": "video_take_snapshots.ipynb",
   "provenance": []
  },
  "kernelspec": {
   "display_name": "Python 3 (ipykernel)",
   "language": "python",
   "name": "python3"
  },
  "language_info": {
   "codemirror_mode": {
    "name": "ipython",
    "version": 3
   },
   "file_extension": ".py",
   "mimetype": "text/x-python",
   "name": "python",
   "nbconvert_exporter": "python",
   "pygments_lexer": "ipython3",
   "version": "3.10.6"
  }
 },
 "nbformat": 4,
 "nbformat_minor": 5
}
